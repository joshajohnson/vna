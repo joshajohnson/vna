{
 "cells": [
  {
   "cell_type": "code",
   "execution_count": 6,
   "metadata": {},
   "outputs": [],
   "source": [
    "import skrf as rf\n",
    "import numpy as np\n",
    "import matplotlib.pyplot as plt\n",
    "from scipy import signal"
   ]
  },
  {
   "cell_type": "code",
   "execution_count": 7,
   "metadata": {},
   "outputs": [],
   "source": [
    "# Generates cal csv through combiation of Josh's S11 measuresments and Henriks Phase Measurements.\n",
    "# Through changing vars for rf.Frequency, interpolation can be matched to number of required samples.\n",
    "\n",
    "l = rf.Network('data/cal_kit/load.s1p')\n",
    "o = rf.Network('data/cal_kit/open.s1p')\n",
    "s = rf.Network('data/cal_kit/short.s1p')\n",
    "\n",
    "l_agilent = np.loadtxt(\"data/agilent_vna/LOADS11.csv\", delimiter=\",\")\n",
    "o_agilent = np.loadtxt(\"data/agilent_vna/OPENS11.csv\", delimiter=\",\")\n",
    "s_agilent = np.loadtxt(\"data/agilent_vna/SHORTS11.csv\", delimiter=\",\")\n",
    "\n",
    "freq = rf.Frequency(25,1250,1226,'mhz')\n",
    "\n",
    "l_i = l.interpolate(freq)\n",
    "o_i = o.interpolate(freq)\n",
    "s_i = s.interpolate(freq)\n",
    "\n",
    "frequencies = l_i.f\n",
    "l_array = np.zeros((len(frequencies), 3))\n",
    "o_array = np.zeros((len(frequencies), 3))\n",
    "s_array = np.zeros((len(frequencies), 3))\n",
    "\n",
    "for i in range(len(frequencies)):\n",
    "    l_array[i, 0] = frequencies[i]\n",
    "    l_array[i, 1] = l_agilent[i, 1]\n",
    "    l_array[i, 2] = l_i.s_deg[i]\n",
    "    \n",
    "    o_array[i, 0] = frequencies[i]\n",
    "    o_array[i, 1] = o_agilent[i, 1]\n",
    "    o_array[i, 2] = o_i.s_deg[i]\n",
    "    \n",
    "    s_array[i, 0] = frequencies[i]\n",
    "    s_array[i, 1] = s_agilent[i, 1]\n",
    "    s_array[i, 2] = s_i.s_deg[i]\n",
    "\n",
    "np.savetxt(\"data/cal_kit/cal_load_interp.csv\", l_array, delimiter=\",\")\n",
    "np.savetxt(\"data/cal_kit/cal_short_interp.csv\", o_array, delimiter=\",\")\n",
    "np.savetxt(\"data/cal_kit/cal_open_interp.csv\", s_array, delimiter=\",\")"
   ]
  },
  {
   "cell_type": "code",
   "execution_count": 8,
   "metadata": {},
   "outputs": [
    {
     "data": {
      "image/png": "[encoded data removed]",
      "text/plain": [
       "<Figure size 432x288 with 1 Axes>"
      ]
     },
     "metadata": {
      "needs_background": "light"
     },
     "output_type": "display_data"
    }
   ],
   "source": [
    "# Trying to find peaks and then determine phase from AD8302\n",
    "\n",
    "def data_to_network(file_name, freq, mag, phase):\n",
    "    s = np.zeros((len(freq), 2, 2), dtype=complex)\n",
    "    fn = file_name.lower()\n",
    "    if 's11' in fn or 'open' in fn or 'short' in fn or 'load' in fn or 'one' in fn:\n",
    "        s[:, 0, 0] = rf.dbdeg_2_reim(mag, phase)\n",
    "    elif 's21' in fn or 'thru' in fn or 'through' in fn or 'two' in fn:\n",
    "        s[:, 1, 0] = rf.dbdeg_2_reim(mag, phase)\n",
    "    else:\n",
    "        var = input(\"Unable to determine S param, please enter S11 or S21\")\n",
    "        if \"s11\" in var:\n",
    "            s[:, 0, 0] = rf.dbdeg_2_reim(mag, phase)\n",
    "        elif \"s21\" in var:\n",
    "            s[:, 1, 0] = rf.dbdeg_2_reim(mag, phase)\n",
    "        else:\n",
    "            print(\"Still unable to figure it out, try changing file name\")\n",
    "\n",
    "    network = rf.Network(f=freq, s=s, name=file_name)\n",
    "    return network\n",
    "\n",
    "def load(file_name):\n",
    "    \"\"\" Loads CSV from file. \"\"\"\n",
    "    global network\n",
    "    data = np.loadtxt(\"{}.csv\".format(file_name), delimiter=\",\")\n",
    "    freq = data[:, 0]\n",
    "    mag = data[:, 1]\n",
    "    phase = data[:, 2]\n",
    "    network = data_to_network(file_name, freq, mag, phase)\n",
    "    network.frequency = network.frequency * 1E-6\n",
    "    return network\n",
    "\n",
    "network = rf.Network(\"fv1206_josh_s11_corr.s1p\")\n",
    "\n",
    "network.plot_s_deg(m=0, n=0)\n",
    "freq = network.f * 1E-6\n",
    "phase = network.s_deg[:,0,0]"
   ]
  },
  {
   "cell_type": "code",
   "execution_count": 9,
   "metadata": {},
   "outputs": [
    {
     "name": "stdout",
     "output_type": "stream",
     "text": [
      "2\n",
      "(array([12, 63], dtype=int64), {'peak_heights': array([170.66265438, 174.96556598])})\n"
     ]
    },
    {
     "ename": "IndexError",
     "evalue": "index 12 is out of bounds for axis 0 with size 0",
     "output_type": "error",
     "traceback": [
      "\u001b[1;31m---------------------------------------------------------------------------\u001b[0m",
      "\u001b[1;31mIndexError\u001b[0m                                Traceback (most recent call last)",
      "\u001b[1;32m<ipython-input-9-9aa4b19b97f8>\u001b[0m in \u001b[0;36m<module>\u001b[1;34m\u001b[0m\n\u001b[0;32m     17\u001b[0m \u001b[0mpeaks\u001b[0m \u001b[1;33m=\u001b[0m \u001b[0msignal\u001b[0m\u001b[1;33m.\u001b[0m\u001b[0mfind_peaks\u001b[0m\u001b[1;33m(\u001b[0m\u001b[0mphase_filt\u001b[0m\u001b[1;33m,\u001b[0m \u001b[0mheight\u001b[0m\u001b[1;33m=\u001b[0m\u001b[0mheight\u001b[0m\u001b[1;33m,\u001b[0m \u001b[0mdistance\u001b[0m\u001b[1;33m=\u001b[0m\u001b[0mdistance\u001b[0m\u001b[1;33m)\u001b[0m\u001b[1;33m\u001b[0m\u001b[1;33m\u001b[0m\u001b[0m\n\u001b[0;32m     18\u001b[0m \u001b[0mprint\u001b[0m\u001b[1;33m(\u001b[0m\u001b[0mpeaks\u001b[0m\u001b[1;33m)\u001b[0m\u001b[1;33m\u001b[0m\u001b[1;33m\u001b[0m\u001b[0m\n\u001b[1;32m---> 19\u001b[1;33m \u001b[0mpeaks_freq\u001b[0m \u001b[1;33m=\u001b[0m \u001b[0mfreq\u001b[0m\u001b[1;33m[\u001b[0m\u001b[0mpeaks\u001b[0m\u001b[1;33m[\u001b[0m\u001b[1;36m0\u001b[0m\u001b[1;33m]\u001b[0m\u001b[1;33m]\u001b[0m\u001b[1;33m\u001b[0m\u001b[1;33m\u001b[0m\u001b[0m\n\u001b[0m\u001b[0;32m     20\u001b[0m \u001b[0mpeaks_phase\u001b[0m \u001b[1;33m=\u001b[0m \u001b[0mphase_filt\u001b[0m\u001b[1;33m[\u001b[0m\u001b[0mpeaks\u001b[0m\u001b[1;33m[\u001b[0m\u001b[1;36m0\u001b[0m\u001b[1;33m]\u001b[0m\u001b[1;33m]\u001b[0m\u001b[1;33m\u001b[0m\u001b[1;33m\u001b[0m\u001b[0m\n\u001b[0;32m     21\u001b[0m \u001b[1;33m\u001b[0m\u001b[0m\n",
      "\u001b[1;31mIndexError\u001b[0m: index 12 is out of bounds for axis 0 with size 0"
     ]
    }
   ],
   "source": [
    "def running_mean(x, N):\n",
    "    cumsum = np.cumsum(np.insert(x, 0, 0)) \n",
    "    return (cumsum[N:] - cumsum[:-N]) / float(N)\n",
    "\n",
    "window_width = int(len(freq) / 1226 * 20)\n",
    "print(window_width)\n",
    "phase_filt = running_mean(phase, window_width)\n",
    "\n",
    "offset = int(0.5 * window_width - 1)\n",
    "freq = freq[:-offset]\n",
    "phase = phase[offset:]\n",
    "\n",
    "height = 168\n",
    "distance = len(phase_filt) / 10\n",
    "\n",
    "# find peaks and valleys\n",
    "peaks = signal.find_peaks(phase_filt, height=height, distance=distance)\n",
    "print(peaks)\n",
    "peaks_freq = freq[peaks[0]]\n",
    "peaks_phase = phase_filt[peaks[0]]\n",
    "\n",
    "valleys = signal.find_peaks(180 - phase_filt, height=height, distance=distance)\n",
    "valleys_freq = freq[valleys[0]]\n",
    "valleys_phase = phase_filt[valleys[0]]\n",
    "\n",
    "# generate array of key points\n",
    "\n",
    "key_freq = []\n",
    "key_phase = []\n",
    "\n",
    "key_freq.append(freq[0])\n",
    "key_phase.append(phase[0])\n",
    "\n",
    "if len(peaks_freq) and len(valleys_freq):\n",
    "    if peaks_freq[0] < valleys_freq[0]:\n",
    "        peaks_first = 1;\n",
    "    else:\n",
    "        peaks_first = 0;\n",
    "\n",
    "while len(peaks_freq) or len(valleys_freq):\n",
    "\n",
    "    if len(peaks_freq) and peaks_first:\n",
    "        key_freq.append(peaks_freq[0])\n",
    "        key_phase.append(180)\n",
    "        peaks_freq = peaks_freq[1:]\n",
    "\n",
    "\n",
    "    if len(valleys_freq):\n",
    "        key_freq.append(valleys_freq[0])\n",
    "        key_phase.append(0)\n",
    "        valleys_freq = valleys_freq[1:]\n",
    "    \n",
    "    peaks_first = 1\n",
    "        \n",
    "key_freq.append(freq[-1])\n",
    "key_phase.append(phase[-1])\n",
    "\n",
    "phase_corr = []\n",
    "j = 0\n",
    "i = 0\n",
    "while i < len(freq):\n",
    "    # if between key frequencies\n",
    "    if freq[i] >= key_freq[j] and freq[i] <= key_freq[j+1]:\n",
    "        # if slope positive, phase negative\n",
    "        if key_phase[j] <= key_phase[j+1]:\n",
    "            phase_corr.append(-phase[i])\n",
    "        # if slope negative, phase positive\n",
    "        else:\n",
    "            phase_corr.append(phase[i])\n",
    "        i = i + 1\n",
    "    # if above freq, increase ref frequencies\n",
    "    else:\n",
    "        j = j + 1"
   ]
  },
  {
   "cell_type": "code",
   "execution_count": 10,
   "metadata": {},
   "outputs": [
    {
     "ename": "ValueError",
     "evalue": "x and y must have same first dimension, but have shapes (0,) and (162,)",
     "output_type": "error",
     "traceback": [
      "\u001b[1;31m---------------------------------------------------------------------------\u001b[0m",
      "\u001b[1;31mValueError\u001b[0m                                Traceback (most recent call last)",
      "\u001b[1;32m<ipython-input-10-387d8b32199e>\u001b[0m in \u001b[0;36m<module>\u001b[1;34m\u001b[0m\n\u001b[0;32m      3\u001b[0m \u001b[0mplt\u001b[0m\u001b[1;33m.\u001b[0m\u001b[0msubplot\u001b[0m\u001b[1;33m(\u001b[0m\u001b[1;36m2\u001b[0m\u001b[1;33m,\u001b[0m\u001b[1;36m1\u001b[0m\u001b[1;33m,\u001b[0m\u001b[1;36m1\u001b[0m\u001b[1;33m)\u001b[0m\u001b[1;33m\u001b[0m\u001b[1;33m\u001b[0m\u001b[0m\n\u001b[0;32m      4\u001b[0m \u001b[0mplt\u001b[0m\u001b[1;33m.\u001b[0m\u001b[0mtitle\u001b[0m\u001b[1;33m(\u001b[0m\u001b[1;34m\"Phase Correction\"\u001b[0m\u001b[1;33m)\u001b[0m\u001b[1;33m\u001b[0m\u001b[1;33m\u001b[0m\u001b[0m\n\u001b[1;32m----> 5\u001b[1;33m \u001b[0mplt\u001b[0m\u001b[1;33m.\u001b[0m\u001b[0mplot\u001b[0m\u001b[1;33m(\u001b[0m\u001b[0mfreq\u001b[0m\u001b[1;33m,\u001b[0m \u001b[0mphase\u001b[0m\u001b[1;33m,\u001b[0m \u001b[0mlabel\u001b[0m \u001b[1;33m=\u001b[0m \u001b[1;34m\"Uncorrected\"\u001b[0m\u001b[1;33m,\u001b[0m \u001b[0mcolor\u001b[0m \u001b[1;33m=\u001b[0m \u001b[1;34m\"orange\"\u001b[0m\u001b[1;33m)\u001b[0m\u001b[1;33m\u001b[0m\u001b[1;33m\u001b[0m\u001b[0m\n\u001b[0m\u001b[0;32m      6\u001b[0m \u001b[0mplt\u001b[0m\u001b[1;33m.\u001b[0m\u001b[0mplot\u001b[0m\u001b[1;33m(\u001b[0m\u001b[0mfreq\u001b[0m\u001b[1;33m[\u001b[0m\u001b[1;33m:\u001b[0m\u001b[0mlen\u001b[0m\u001b[1;33m(\u001b[0m\u001b[0mphase_filt\u001b[0m\u001b[1;33m)\u001b[0m\u001b[1;33m]\u001b[0m\u001b[1;33m,\u001b[0m\u001b[0mphase_filt\u001b[0m\u001b[1;33m,\u001b[0m \u001b[0mlabel\u001b[0m \u001b[1;33m=\u001b[0m \u001b[1;34m\"LPF\"\u001b[0m\u001b[1;33m,\u001b[0m \u001b[0mcolor\u001b[0m \u001b[1;33m=\u001b[0m \u001b[1;34m\"blue\"\u001b[0m\u001b[1;33m)\u001b[0m\u001b[1;33m\u001b[0m\u001b[1;33m\u001b[0m\u001b[0m\n\u001b[0;32m      7\u001b[0m \u001b[0mplt\u001b[0m\u001b[1;33m.\u001b[0m\u001b[0mscatter\u001b[0m\u001b[1;33m(\u001b[0m\u001b[0mkey_freq\u001b[0m\u001b[1;33m,\u001b[0m \u001b[0mkey_phase\u001b[0m\u001b[1;33m,\u001b[0m \u001b[0mmarker\u001b[0m \u001b[1;33m=\u001b[0m \u001b[1;34m\"o\"\u001b[0m\u001b[1;33m,\u001b[0m \u001b[0mcolor\u001b[0m \u001b[1;33m=\u001b[0m \u001b[1;34m\"magenta\"\u001b[0m\u001b[1;33m,\u001b[0m \u001b[0mlabel\u001b[0m \u001b[1;33m=\u001b[0m \u001b[1;34m\"Key Points\"\u001b[0m\u001b[1;33m)\u001b[0m\u001b[1;33m\u001b[0m\u001b[1;33m\u001b[0m\u001b[0m\n",
      "\u001b[1;32mc:\\users\\josh johnson\\appdata\\local\\programs\\python\\python37\\lib\\site-packages\\matplotlib\\pyplot.py\u001b[0m in \u001b[0;36mplot\u001b[1;34m(scalex, scaley, data, *args, **kwargs)\u001b[0m\n\u001b[0;32m   2793\u001b[0m     return gca().plot(\n\u001b[0;32m   2794\u001b[0m         *args, scalex=scalex, scaley=scaley, **({\"data\": data} if data\n\u001b[1;32m-> 2795\u001b[1;33m         is not None else {}), **kwargs)\n\u001b[0m\u001b[0;32m   2796\u001b[0m \u001b[1;33m\u001b[0m\u001b[0m\n\u001b[0;32m   2797\u001b[0m \u001b[1;33m\u001b[0m\u001b[0m\n",
      "\u001b[1;32mc:\\users\\josh johnson\\appdata\\local\\programs\\python\\python37\\lib\\site-packages\\matplotlib\\axes\\_axes.py\u001b[0m in \u001b[0;36mplot\u001b[1;34m(self, scalex, scaley, data, *args, **kwargs)\u001b[0m\n\u001b[0;32m   1664\u001b[0m         \"\"\"\n\u001b[0;32m   1665\u001b[0m         \u001b[0mkwargs\u001b[0m \u001b[1;33m=\u001b[0m \u001b[0mcbook\u001b[0m\u001b[1;33m.\u001b[0m\u001b[0mnormalize_kwargs\u001b[0m\u001b[1;33m(\u001b[0m\u001b[0mkwargs\u001b[0m\u001b[1;33m,\u001b[0m \u001b[0mmlines\u001b[0m\u001b[1;33m.\u001b[0m\u001b[0mLine2D\u001b[0m\u001b[1;33m.\u001b[0m\u001b[0m_alias_map\u001b[0m\u001b[1;33m)\u001b[0m\u001b[1;33m\u001b[0m\u001b[1;33m\u001b[0m\u001b[0m\n\u001b[1;32m-> 1666\u001b[1;33m         \u001b[0mlines\u001b[0m \u001b[1;33m=\u001b[0m \u001b[1;33m[\u001b[0m\u001b[1;33m*\u001b[0m\u001b[0mself\u001b[0m\u001b[1;33m.\u001b[0m\u001b[0m_get_lines\u001b[0m\u001b[1;33m(\u001b[0m\u001b[1;33m*\u001b[0m\u001b[0margs\u001b[0m\u001b[1;33m,\u001b[0m \u001b[0mdata\u001b[0m\u001b[1;33m=\u001b[0m\u001b[0mdata\u001b[0m\u001b[1;33m,\u001b[0m \u001b[1;33m**\u001b[0m\u001b[0mkwargs\u001b[0m\u001b[1;33m)\u001b[0m\u001b[1;33m]\u001b[0m\u001b[1;33m\u001b[0m\u001b[1;33m\u001b[0m\u001b[0m\n\u001b[0m\u001b[0;32m   1667\u001b[0m         \u001b[1;32mfor\u001b[0m \u001b[0mline\u001b[0m \u001b[1;32min\u001b[0m \u001b[0mlines\u001b[0m\u001b[1;33m:\u001b[0m\u001b[1;33m\u001b[0m\u001b[1;33m\u001b[0m\u001b[0m\n\u001b[0;32m   1668\u001b[0m             \u001b[0mself\u001b[0m\u001b[1;33m.\u001b[0m\u001b[0madd_line\u001b[0m\u001b[1;33m(\u001b[0m\u001b[0mline\u001b[0m\u001b[1;33m)\u001b[0m\u001b[1;33m\u001b[0m\u001b[1;33m\u001b[0m\u001b[0m\n",
      "\u001b[1;32mc:\\users\\josh johnson\\appdata\\local\\programs\\python\\python37\\lib\\site-packages\\matplotlib\\axes\\_base.py\u001b[0m in \u001b[0;36m__call__\u001b[1;34m(self, *args, **kwargs)\u001b[0m\n\u001b[0;32m    223\u001b[0m                 \u001b[0mthis\u001b[0m \u001b[1;33m+=\u001b[0m \u001b[0margs\u001b[0m\u001b[1;33m[\u001b[0m\u001b[1;36m0\u001b[0m\u001b[1;33m]\u001b[0m\u001b[1;33m,\u001b[0m\u001b[1;33m\u001b[0m\u001b[1;33m\u001b[0m\u001b[0m\n\u001b[0;32m    224\u001b[0m                 \u001b[0margs\u001b[0m \u001b[1;33m=\u001b[0m \u001b[0margs\u001b[0m\u001b[1;33m[\u001b[0m\u001b[1;36m1\u001b[0m\u001b[1;33m:\u001b[0m\u001b[1;33m]\u001b[0m\u001b[1;33m\u001b[0m\u001b[1;33m\u001b[0m\u001b[0m\n\u001b[1;32m--> 225\u001b[1;33m             \u001b[1;32myield\u001b[0m \u001b[1;32mfrom\u001b[0m \u001b[0mself\u001b[0m\u001b[1;33m.\u001b[0m\u001b[0m_plot_args\u001b[0m\u001b[1;33m(\u001b[0m\u001b[0mthis\u001b[0m\u001b[1;33m,\u001b[0m \u001b[0mkwargs\u001b[0m\u001b[1;33m)\u001b[0m\u001b[1;33m\u001b[0m\u001b[1;33m\u001b[0m\u001b[0m\n\u001b[0m\u001b[0;32m    226\u001b[0m \u001b[1;33m\u001b[0m\u001b[0m\n\u001b[0;32m    227\u001b[0m     \u001b[1;32mdef\u001b[0m \u001b[0mget_next_color\u001b[0m\u001b[1;33m(\u001b[0m\u001b[0mself\u001b[0m\u001b[1;33m)\u001b[0m\u001b[1;33m:\u001b[0m\u001b[1;33m\u001b[0m\u001b[1;33m\u001b[0m\u001b[0m\n",
      "\u001b[1;32mc:\\users\\josh johnson\\appdata\\local\\programs\\python\\python37\\lib\\site-packages\\matplotlib\\axes\\_base.py\u001b[0m in \u001b[0;36m_plot_args\u001b[1;34m(self, tup, kwargs)\u001b[0m\n\u001b[0;32m    389\u001b[0m             \u001b[0mx\u001b[0m\u001b[1;33m,\u001b[0m \u001b[0my\u001b[0m \u001b[1;33m=\u001b[0m \u001b[0mindex_of\u001b[0m\u001b[1;33m(\u001b[0m\u001b[0mtup\u001b[0m\u001b[1;33m[\u001b[0m\u001b[1;33m-\u001b[0m\u001b[1;36m1\u001b[0m\u001b[1;33m]\u001b[0m\u001b[1;33m)\u001b[0m\u001b[1;33m\u001b[0m\u001b[1;33m\u001b[0m\u001b[0m\n\u001b[0;32m    390\u001b[0m \u001b[1;33m\u001b[0m\u001b[0m\n\u001b[1;32m--> 391\u001b[1;33m         \u001b[0mx\u001b[0m\u001b[1;33m,\u001b[0m \u001b[0my\u001b[0m \u001b[1;33m=\u001b[0m \u001b[0mself\u001b[0m\u001b[1;33m.\u001b[0m\u001b[0m_xy_from_xy\u001b[0m\u001b[1;33m(\u001b[0m\u001b[0mx\u001b[0m\u001b[1;33m,\u001b[0m \u001b[0my\u001b[0m\u001b[1;33m)\u001b[0m\u001b[1;33m\u001b[0m\u001b[1;33m\u001b[0m\u001b[0m\n\u001b[0m\u001b[0;32m    392\u001b[0m \u001b[1;33m\u001b[0m\u001b[0m\n\u001b[0;32m    393\u001b[0m         \u001b[1;32mif\u001b[0m \u001b[0mself\u001b[0m\u001b[1;33m.\u001b[0m\u001b[0mcommand\u001b[0m \u001b[1;33m==\u001b[0m \u001b[1;34m'plot'\u001b[0m\u001b[1;33m:\u001b[0m\u001b[1;33m\u001b[0m\u001b[1;33m\u001b[0m\u001b[0m\n",
      "\u001b[1;32mc:\\users\\josh johnson\\appdata\\local\\programs\\python\\python37\\lib\\site-packages\\matplotlib\\axes\\_base.py\u001b[0m in \u001b[0;36m_xy_from_xy\u001b[1;34m(self, x, y)\u001b[0m\n\u001b[0;32m    268\u001b[0m         \u001b[1;32mif\u001b[0m \u001b[0mx\u001b[0m\u001b[1;33m.\u001b[0m\u001b[0mshape\u001b[0m\u001b[1;33m[\u001b[0m\u001b[1;36m0\u001b[0m\u001b[1;33m]\u001b[0m \u001b[1;33m!=\u001b[0m \u001b[0my\u001b[0m\u001b[1;33m.\u001b[0m\u001b[0mshape\u001b[0m\u001b[1;33m[\u001b[0m\u001b[1;36m0\u001b[0m\u001b[1;33m]\u001b[0m\u001b[1;33m:\u001b[0m\u001b[1;33m\u001b[0m\u001b[1;33m\u001b[0m\u001b[0m\n\u001b[0;32m    269\u001b[0m             raise ValueError(\"x and y must have same first dimension, but \"\n\u001b[1;32m--> 270\u001b[1;33m                              \"have shapes {} and {}\".format(x.shape, y.shape))\n\u001b[0m\u001b[0;32m    271\u001b[0m         \u001b[1;32mif\u001b[0m \u001b[0mx\u001b[0m\u001b[1;33m.\u001b[0m\u001b[0mndim\u001b[0m \u001b[1;33m>\u001b[0m \u001b[1;36m2\u001b[0m \u001b[1;32mor\u001b[0m \u001b[0my\u001b[0m\u001b[1;33m.\u001b[0m\u001b[0mndim\u001b[0m \u001b[1;33m>\u001b[0m \u001b[1;36m2\u001b[0m\u001b[1;33m:\u001b[0m\u001b[1;33m\u001b[0m\u001b[1;33m\u001b[0m\u001b[0m\n\u001b[0;32m    272\u001b[0m             raise ValueError(\"x and y can be no greater than 2-D, but have \"\n",
      "\u001b[1;31mValueError\u001b[0m: x and y must have same first dimension, but have shapes (0,) and (162,)"
     ]
    },
    {
     "data": {
      "text/plain": [
       "<Figure size 432x288 with 0 Axes>"
      ]
     },
     "metadata": {},
     "output_type": "display_data"
    },
    {
     "data": {
      "image/png": "[encoded data removed]",
      "text/plain": [
       "<Figure size 720x576 with 1 Axes>"
      ]
     },
     "metadata": {
      "needs_background": "light"
     },
     "output_type": "display_data"
    }
   ],
   "source": [
    "plt.figure()\n",
    "plt.figure(figsize=(10.0, 8.0))\n",
    "plt.subplot(2,1,1)\n",
    "plt.title(\"Phase Correction\")\n",
    "plt.plot(freq, phase, label = \"Uncorrected\", color = \"orange\")\n",
    "plt.plot(freq[:len(phase_filt)],phase_filt, label = \"LPF\", color = \"blue\")\n",
    "plt.scatter(key_freq, key_phase, marker = \"o\", color = \"magenta\", label = \"Key Points\")\n",
    "plt.rcParams.update({'font.size': 16})\n",
    "plt.ylabel(\"|Phase|\")\n",
    "# plt.xlabel(\"Frequency (MHz)\")\n",
    "plt.legend(loc='lower right')\n",
    "\n",
    "plt.subplot(2,1,2)\n",
    "plt.plot(freq,phase_corr, label = \"Corrected\")\n",
    "plt.rcParams.update({'font.size': 16})\n",
    "plt.ylabel(\"Phase\")\n",
    "plt.xlabel(\"Frequency (MHz)\")\n",
    "plt.legend(loc=\"lower right\")\n",
    "plt.savefig(\"phase_correction_2\")"
   ]
  },
  {
   "cell_type": "code",
   "execution_count": null,
   "metadata": {},
   "outputs": [],
   "source": []
  }
 ],
 "metadata": {
  "kernelspec": {
   "display_name": "Python 3",
   "language": "python",
   "name": "python3"
  },
  "language_info": {
   "codemirror_mode": {
    "name": "ipython",
    "version": 3
   },
   "file_extension": ".py",
   "mimetype": "text/x-python",
   "name": "python",
   "nbconvert_exporter": "python",
   "pygments_lexer": "ipython3",
   "version": "3.7.2"
  }
 },
 "nbformat": 4,
 "nbformat_minor": 2
}
