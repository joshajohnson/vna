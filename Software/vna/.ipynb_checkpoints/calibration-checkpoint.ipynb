{
 "cells": [
  {
   "cell_type": "code",
   "execution_count": 1,
   "metadata": {},
   "outputs": [],
   "source": [
    "import skrf as rf\n",
    "import numpy as np\n",
    "import matplotlib.pyplot as plt"
   ]
  },
  {
   "cell_type": "code",
   "execution_count": 159,
   "metadata": {},
   "outputs": [],
   "source": [
    "# Generates cal csv through combiation of Josh's S11 measuresments and Henriks Phase Measurements.\n",
    "# Through changing vars for rf.Frequency, interpolation can be matched to number of required samples.\n",
    "\n",
    "l = rf.Network('cal_kit/load.s1p')\n",
    "o = rf.Network('cal_kit/open.s1p')\n",
    "s = rf.Network('cal_kit/short.s1p')\n",
    "\n",
    "l_agilent = np.loadtxt(\"cal_std/LOADS11.csv\", delimiter=\",\")\n",
    "o_agilent = np.loadtxt(\"cal_std/OPENS11.csv\", delimiter=\",\")\n",
    "s_agilent = np.loadtxt(\"cal_std/SHORTS11.csv\", delimiter=\",\")\n",
    "\n",
    "freq = rf.Frequency(25,1250,1226,'mhz')\n",
    "\n",
    "l_i = l.interpolate(freq)\n",
    "o_i = o.interpolate(freq)\n",
    "s_i = s.interpolate(freq)\n",
    "\n",
    "frequencies = l_i.f\n",
    "l_array = np.zeros((len(frequencies), 3))\n",
    "o_array = np.zeros((len(frequencies), 3))\n",
    "s_array = np.zeros((len(frequencies), 3))\n",
    "\n",
    "for i in range(len(frequencies)):\n",
    "    l_array[i, 0] = frequencies[i]\n",
    "    l_array[i, 1] = l_agilent[i, 1]\n",
    "    l_array[i, 2] = l_i.s_deg[i]\n",
    "    \n",
    "    o_array[i, 0] = frequencies[i]\n",
    "    o_array[i, 1] = o_agilent[i, 1]\n",
    "    o_array[i, 2] = o_i.s_deg[i]\n",
    "    \n",
    "    s_array[i, 0] = frequencies[i]\n",
    "    s_array[i, 1] = s_agilent[i, 1]\n",
    "    s_array[i, 2] = s_i.s_deg[i]\n",
    "\n",
    "np.savetxt(\"cal_load_interp.csv\", l_array, delimiter=\",\")\n",
    "np.savetxt(\"cal_short_interp.csv\", o_array, delimiter=\",\")\n",
    "np.savetxt(\"cal_open_interp.csv\", s_array, delimiter=\",\")"
   ]
  }
 ],
 "metadata": {
  "kernelspec": {
   "display_name": "Python 3",
   "language": "python",
   "name": "python3"
  },
  "language_info": {
   "codemirror_mode": {
    "name": "ipython",
    "version": 3
   },
   "file_extension": ".py",
   "mimetype": "text/x-python",
   "name": "python",
   "nbconvert_exporter": "python",
   "pygments_lexer": "ipython3",
   "version": "3.7.2"
  }
 },
 "nbformat": 4,
 "nbformat_minor": 2
}
